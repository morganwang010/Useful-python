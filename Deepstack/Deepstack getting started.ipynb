{
 "cells": [
  {
   "cell_type": "markdown",
   "metadata": {},
   "source": [
    "Run object detection\n",
    "```\n",
    "docker run -e VISION-DETECTION=True \\\n",
    "      -v localstorage:/datastore -p 5000:5000 \\\n",
    "       --name deepstack deepquestai/deepstack:cpu-x3-beta\n",
    "```\n",
    "\n",
    "Use curl to check active:\n",
    "```\n",
    "curl -X POST -F image=@couple.jpg 'http://localhost:5000/v1/vision/detection'\n",
    "```"
   ]
  },
  {
   "cell_type": "code",
   "execution_count": 9,
   "metadata": {},
   "outputs": [
    {
     "name": "stdout",
     "output_type": "stream",
     "text": [
      "/bin/bash: curl: command not found\n"
     ]
    }
   ],
   "source": [
    "!curl -X POST -F image=@couple.jpg 'http://localhost:5000/v1/vision/detection'"
   ]
  },
  {
   "cell_type": "code",
   "execution_count": 1,
   "metadata": {},
   "outputs": [],
   "source": [
    "import requests\n",
    "import json\n",
    "from PIL import Image, ImageDraw"
   ]
  },
  {
   "cell_type": "code",
   "execution_count": 2,
   "metadata": {},
   "outputs": [],
   "source": [
    "def draw_box(draw, prediction, text='', color=(255, 0, 0)):\n",
    "    \"\"\"Draw bounding box on image.\"\"\"\n",
    "    (left, right, top, bottom) = (prediction['x_min'], prediction['x_max'], prediction['y_min'], prediction['y_max'])\n",
    "    draw.line([(left, top), (left, bottom), (right, bottom), (right, top), (left, top)], width=5, fill=color)\n",
    "    if text:\n",
    "        draw.text((left, abs(top-15)), text, fill=color)"
   ]
  },
  {
   "cell_type": "code",
   "execution_count": 3,
   "metadata": {},
   "outputs": [
    {
     "data": {
      "text/plain": [
       "55.6"
      ]
     },
     "execution_count": 3,
     "metadata": {},
     "output_type": "execute_result"
    }
   ],
   "source": [
    "def format_confidence(confidence):\n",
    "    \"\"\"Takes a confidence from the API like \n",
    "       0.55623 and returne 55.6 (%).\n",
    "    \"\"\"\n",
    "    return round(float(confidence)*100, 1)\n",
    "\n",
    "format_confidence(0.55623)"
   ]
  },
  {
   "cell_type": "code",
   "execution_count": 10,
   "metadata": {},
   "outputs": [],
   "source": [
    "# IP_ADDR = 'localhost'\n",
    "IP_ADDR = '192.168.1.133' # mac IP\n",
    "PORT = 5000\n",
    "API_KEY =  None # \"Mysecretkey\""
   ]
  },
  {
   "cell_type": "markdown",
   "metadata": {},
   "source": [
    "## Object detection\n",
    "https://deepstackpython.readthedocs.io/en/latest/objectdetection.html"
   ]
  },
  {
   "cell_type": "code",
   "execution_count": 11,
   "metadata": {},
   "outputs": [
    {
     "name": "stdout",
     "output_type": "stream",
     "text": [
      " deepstack-batch-process.ipynb      faces.jpg          README.md\n",
      "'Deepstack getting started.ipynb'   image_record.csv   test-object.py\n",
      " \u001b[0m\u001b[01;34mdeepstack-python\u001b[0m/                  objects.ipynb\n"
     ]
    }
   ],
   "source": [
    "ls"
   ]
  },
  {
   "cell_type": "code",
   "execution_count": 27,
   "metadata": {},
   "outputs": [],
   "source": [
    "#%%time\n",
    "img_file_test = \"faces.jpg\"\n",
    "\n",
    "image_bytes = open(img_file_test,\"rb\").read()\n",
    "\n",
    "response = requests.post(f\"http://{IP_ADDR}:{PORT}/v1/vision/detection\",\n",
    "                         files={\"file\": image_bytes, \"image\": image_bytes}, #files={\"image\":image_data}, \n",
    "                         data={\"api_key\": API_KEY})"
   ]
  },
  {
   "cell_type": "code",
   "execution_count": 28,
   "metadata": {},
   "outputs": [
    {
     "data": {
      "text/plain": [
       "<Response [200]>"
      ]
     },
     "execution_count": 28,
     "metadata": {},
     "output_type": "execute_result"
    }
   ],
   "source": [
    "response"
   ]
  },
  {
   "cell_type": "code",
   "execution_count": 29,
   "metadata": {},
   "outputs": [
    {
     "data": {
      "text/plain": [
       "{'success': True,\n",
       " 'predictions': [{'confidence': 0.99843377,\n",
       "   'label': 'person',\n",
       "   'y_min': 129,\n",
       "   'x_min': 34,\n",
       "   'y_max': 705,\n",
       "   'x_max': 497},\n",
       "  {'confidence': 0.99870026,\n",
       "   'label': 'person',\n",
       "   'y_min': 38,\n",
       "   'x_min': 452,\n",
       "   'y_max': 704,\n",
       "   'x_max': 1026},\n",
       "  {'confidence': 0.95178914,\n",
       "   'label': 'person',\n",
       "   'y_min': 191,\n",
       "   'x_min': 847,\n",
       "   'y_max': 553,\n",
       "   'x_max': 1027},\n",
       "  {'confidence': 0.99357235,\n",
       "   'label': 'person',\n",
       "   'y_min': 180,\n",
       "   'x_min': 0,\n",
       "   'y_max': 706,\n",
       "   'x_max': 236}]}"
      ]
     },
     "execution_count": 29,
     "metadata": {},
     "output_type": "execute_result"
    }
   ],
   "source": [
    "response.json()"
   ]
  },
  {
   "cell_type": "code",
   "execution_count": null,
   "metadata": {},
   "outputs": [],
   "source": [
    "predictions = response.json()['predictions']\n",
    "predictions"
   ]
  },
  {
   "cell_type": "code",
   "execution_count": null,
   "metadata": {},
   "outputs": [],
   "source": [
    "image = Image.open(img_file_test)\n",
    "draw = ImageDraw.Draw(image)\n",
    "\n",
    "for prediction in predictions:\n",
    "    prediction_confidence = format_confidence(prediction['confidence'])\n",
    "    draw_box(draw, prediction, str(prediction_confidence))\n",
    "\n",
    "display(image)"
   ]
  },
  {
   "cell_type": "code",
   "execution_count": null,
   "metadata": {},
   "outputs": [],
   "source": []
  }
 ],
 "metadata": {
  "kernelspec": {
   "display_name": "Python 3",
   "language": "python",
   "name": "python3"
  },
  "language_info": {
   "codemirror_mode": {
    "name": "ipython",
    "version": 3
   },
   "file_extension": ".py",
   "mimetype": "text/x-python",
   "name": "python",
   "nbconvert_exporter": "python",
   "pygments_lexer": "ipython3",
   "version": "3.7.6"
  }
 },
 "nbformat": 4,
 "nbformat_minor": 4
}
