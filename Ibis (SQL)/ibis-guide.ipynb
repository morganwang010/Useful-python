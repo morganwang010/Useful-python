{
 "cells": [
  {
   "cell_type": "markdown",
   "metadata": {},
   "source": [
    "https://labs.quansight.org/blog/2020/06/ibis-an-idiomatic-flavor-of-sql-for-python-programmers/"
   ]
  },
  {
   "cell_type": "code",
   "execution_count": 1,
   "metadata": {},
   "outputs": [
    {
     "name": "stdout",
     "output_type": "stream",
     "text": [
      "Collecting ibis-framework\n",
      "  Downloading ibis_framework-1.3.0-py3-none-any.whl (601 kB)\n",
      "\u001b[K     |████████████████████████████████| 601 kB 3.3 MB/s eta 0:00:01\n",
      "\u001b[?25hRequirement already satisfied: toolz in /opt/conda/lib/python3.7/site-packages (from ibis-framework) (0.10.0)\n",
      "Requirement already satisfied: pandas>=0.21 in /opt/conda/lib/python3.7/site-packages (from ibis-framework) (1.0.3)\n",
      "Requirement already satisfied: numpy>=1.11 in /opt/conda/lib/python3.7/site-packages (from ibis-framework) (1.18.1)\n",
      "Requirement already satisfied: pytz in /opt/conda/lib/python3.7/site-packages (from ibis-framework) (2019.3)\n",
      "Collecting regex\n",
      "  Downloading regex-2020.6.8-cp37-cp37m-manylinux2010_x86_64.whl (661 kB)\n",
      "\u001b[K     |████████████████████████████████| 661 kB 5.0 MB/s eta 0:00:01\n",
      "\u001b[?25hCollecting multipledispatch>=0.6.0\n",
      "  Downloading multipledispatch-0.6.0-py3-none-any.whl (11 kB)\n",
      "Requirement already satisfied: python-dateutil>=2.6.1 in /opt/conda/lib/python3.7/site-packages (from pandas>=0.21->ibis-framework) (2.8.1)\n",
      "Requirement already satisfied: six in /opt/conda/lib/python3.7/site-packages (from multipledispatch>=0.6.0->ibis-framework) (1.14.0)\n",
      "Installing collected packages: regex, multipledispatch, ibis-framework\n",
      "Successfully installed ibis-framework-1.3.0 multipledispatch-0.6.0 regex-2020.6.8\n"
     ]
    }
   ],
   "source": [
    "!pip install ibis-framework"
   ]
  },
  {
   "cell_type": "code",
   "execution_count": 2,
   "metadata": {},
   "outputs": [],
   "source": [
    "%matplotlib inline\n",
    "import ibis\n",
    "import pathlib, requests\n",
    "\n",
    "db_path = pathlib.Path.cwd() / 'lahmansbaseballdb.sqlite'\n",
    "\n",
    "if not db_path.exists():          # Downloads database if necessary\n",
    "    with open(db_path, 'wb') as f:\n",
    "        URL = 'https://github.com/WebucatorTraining/lahman-baseball-mysql/raw/master/lahmansbaseballdb.sqlite'\n",
    "        req = requests.get(URL)\n",
    "        f.write(req.content)\n",
    "\n",
    "client = ibis.sqlite.connect(db_path.name) # Opens SQLite database connection"
   ]
  },
  {
   "cell_type": "code",
   "execution_count": 3,
   "metadata": {},
   "outputs": [
    {
     "name": "stdout",
     "output_type": "stream",
     "text": [
      "ibis-guide.ipynb  lahmansbaseballdb.sqlite  README.md\n"
     ]
    }
   ],
   "source": [
    "ls"
   ]
  },
  {
   "cell_type": "code",
   "execution_count": 4,
   "metadata": {},
   "outputs": [
    {
     "name": "stdout",
     "output_type": "stream",
     "text": [
      "This database has 29 tables.\n"
     ]
    }
   ],
   "source": [
    "tables = client.list_tables()\n",
    "print(f'This database has {len(tables)} tables.')"
   ]
  },
  {
   "cell_type": "code",
   "execution_count": 5,
   "metadata": {},
   "outputs": [
    {
     "data": {
      "text/plain": [
       "['allstarfull',\n",
       " 'appearances',\n",
       " 'awardsmanagers',\n",
       " 'awardsplayers',\n",
       " 'awardssharemanagers',\n",
       " 'awardsshareplayers',\n",
       " 'batting',\n",
       " 'battingpost',\n",
       " 'collegeplaying',\n",
       " 'divisions',\n",
       " 'fielding',\n",
       " 'fieldingof',\n",
       " 'fieldingofsplit',\n",
       " 'fieldingpost',\n",
       " 'halloffame',\n",
       " 'homegames',\n",
       " 'leagues',\n",
       " 'managers',\n",
       " 'managershalf',\n",
       " 'parks',\n",
       " 'people',\n",
       " 'pitching',\n",
       " 'pitchingpost',\n",
       " 'salaries',\n",
       " 'schools',\n",
       " 'seriespost',\n",
       " 'teams',\n",
       " 'teamsfranchises',\n",
       " 'teamshalf']"
      ]
     },
     "execution_count": 5,
     "metadata": {},
     "output_type": "execute_result"
    }
   ],
   "source": [
    "tables"
   ]
  },
  {
   "cell_type": "markdown",
   "metadata": {},
   "source": [
    "invoke the table method associated with the client object called with the appropriate names."
   ]
  },
  {
   "cell_type": "code",
   "execution_count": 6,
   "metadata": {},
   "outputs": [],
   "source": [
    "halloffame = client.table('halloffame', database='base')\n",
    "appearances = client.table('appearances', database='base')"
   ]
  },
  {
   "cell_type": "markdown",
   "metadata": {},
   "source": [
    "We can examine the contents of these Ibis table expressions using the `TableExpr.limit` or the `TableExpr.head` method "
   ]
  },
  {
   "cell_type": "code",
   "execution_count": 12,
   "metadata": {},
   "outputs": [
    {
     "name": "stdout",
     "output_type": "stream",
     "text": [
      "The object sample is of type TableExpr\n"
     ]
    }
   ],
   "source": [
    "sample = halloffame.head()\n",
    "print(f'The object sample is of type {type(sample).__name__}')"
   ]
  },
  {
   "cell_type": "code",
   "execution_count": 13,
   "metadata": {},
   "outputs": [
    {
     "data": {
      "text/plain": [
       "'SELECT t0.\"ID\", t0.\"playerID\", t0.yearid, t0.\"votedBy\", t0.ballots, t0.needed, t0.votes, t0.inducted, t0.category, t0.needed_note \\nFROM base.halloffame AS t0\\n LIMIT ? OFFSET ?'"
      ]
     },
     "execution_count": 13,
     "metadata": {},
     "output_type": "execute_result"
    }
   ],
   "source": [
    "str(sample.compile())"
   ]
  },
  {
   "cell_type": "markdown",
   "metadata": {},
   "source": [
    "Display dag (need to find how to do this in notebook)"
   ]
  },
  {
   "cell_type": "code",
   "execution_count": 14,
   "metadata": {},
   "outputs": [
    {
     "data": {
      "text/plain": [
       "ref_0\n",
       "SQLiteTable[table]\n",
       "  name: halloffame\n",
       "  schema:\n",
       "    ID : int32\n",
       "    playerID : string\n",
       "    yearid : int16\n",
       "    votedBy : string\n",
       "    ballots : int16\n",
       "    needed : int16\n",
       "    votes : int16\n",
       "    inducted : string\n",
       "    category : string\n",
       "    needed_note : string\n",
       "\n",
       "Limit[table]\n",
       "  table:\n",
       "    Table: ref_0\n",
       "  n:\n",
       "    5\n",
       "  offset:\n",
       "    0"
      ]
     },
     "execution_count": 14,
     "metadata": {},
     "output_type": "execute_result"
    }
   ],
   "source": [
    "sample"
   ]
  },
  {
   "cell_type": "code",
   "execution_count": 15,
   "metadata": {},
   "outputs": [
    {
     "name": "stdout",
     "output_type": "stream",
     "text": [
      "The type of result is DataFrame\n"
     ]
    },
    {
     "data": {
      "text/html": [
       "<div>\n",
       "<style scoped>\n",
       "    .dataframe tbody tr th:only-of-type {\n",
       "        vertical-align: middle;\n",
       "    }\n",
       "\n",
       "    .dataframe tbody tr th {\n",
       "        vertical-align: top;\n",
       "    }\n",
       "\n",
       "    .dataframe thead th {\n",
       "        text-align: right;\n",
       "    }\n",
       "</style>\n",
       "<table border=\"1\" class=\"dataframe\">\n",
       "  <thead>\n",
       "    <tr style=\"text-align: right;\">\n",
       "      <th></th>\n",
       "      <th>ID</th>\n",
       "      <th>playerID</th>\n",
       "      <th>yearid</th>\n",
       "      <th>votedBy</th>\n",
       "      <th>ballots</th>\n",
       "      <th>needed</th>\n",
       "      <th>votes</th>\n",
       "      <th>inducted</th>\n",
       "      <th>category</th>\n",
       "      <th>needed_note</th>\n",
       "    </tr>\n",
       "  </thead>\n",
       "  <tbody>\n",
       "    <tr>\n",
       "      <th>0</th>\n",
       "      <td>1</td>\n",
       "      <td>cobbty01</td>\n",
       "      <td>1936</td>\n",
       "      <td>BBWAA</td>\n",
       "      <td>226</td>\n",
       "      <td>170</td>\n",
       "      <td>222</td>\n",
       "      <td>Y</td>\n",
       "      <td>Player</td>\n",
       "      <td>None</td>\n",
       "    </tr>\n",
       "    <tr>\n",
       "      <th>1</th>\n",
       "      <td>2</td>\n",
       "      <td>ruthba01</td>\n",
       "      <td>1936</td>\n",
       "      <td>BBWAA</td>\n",
       "      <td>226</td>\n",
       "      <td>170</td>\n",
       "      <td>215</td>\n",
       "      <td>Y</td>\n",
       "      <td>Player</td>\n",
       "      <td>None</td>\n",
       "    </tr>\n",
       "    <tr>\n",
       "      <th>2</th>\n",
       "      <td>3</td>\n",
       "      <td>wagneho01</td>\n",
       "      <td>1936</td>\n",
       "      <td>BBWAA</td>\n",
       "      <td>226</td>\n",
       "      <td>170</td>\n",
       "      <td>215</td>\n",
       "      <td>Y</td>\n",
       "      <td>Player</td>\n",
       "      <td>None</td>\n",
       "    </tr>\n",
       "    <tr>\n",
       "      <th>3</th>\n",
       "      <td>4</td>\n",
       "      <td>mathech01</td>\n",
       "      <td>1936</td>\n",
       "      <td>BBWAA</td>\n",
       "      <td>226</td>\n",
       "      <td>170</td>\n",
       "      <td>205</td>\n",
       "      <td>Y</td>\n",
       "      <td>Player</td>\n",
       "      <td>None</td>\n",
       "    </tr>\n",
       "    <tr>\n",
       "      <th>4</th>\n",
       "      <td>5</td>\n",
       "      <td>johnswa01</td>\n",
       "      <td>1936</td>\n",
       "      <td>BBWAA</td>\n",
       "      <td>226</td>\n",
       "      <td>170</td>\n",
       "      <td>189</td>\n",
       "      <td>Y</td>\n",
       "      <td>Player</td>\n",
       "      <td>None</td>\n",
       "    </tr>\n",
       "  </tbody>\n",
       "</table>\n",
       "</div>"
      ],
      "text/plain": [
       "   ID   playerID  yearid votedBy  ballots  needed  votes inducted category  \\\n",
       "0   1   cobbty01    1936   BBWAA      226     170    222        Y   Player   \n",
       "1   2   ruthba01    1936   BBWAA      226     170    215        Y   Player   \n",
       "2   3  wagneho01    1936   BBWAA      226     170    215        Y   Player   \n",
       "3   4  mathech01    1936   BBWAA      226     170    205        Y   Player   \n",
       "4   5  johnswa01    1936   BBWAA      226     170    189        Y   Player   \n",
       "\n",
       "  needed_note  \n",
       "0        None  \n",
       "1        None  \n",
       "2        None  \n",
       "3        None  \n",
       "4        None  "
      ]
     },
     "execution_count": 15,
     "metadata": {},
     "output_type": "execute_result"
    }
   ],
   "source": [
    "result = sample.execute()\n",
    "print(f'The type of result is {type(result).__name__}')\n",
    "result    # Leading 5 rows of halloffame table)"
   ]
  },
  {
   "cell_type": "markdown",
   "metadata": {},
   "source": [
    "A similar extraction of the leading five rows from the appearances table (in one line) gives the following table with 23 columns:"
   ]
  },
  {
   "cell_type": "code",
   "execution_count": 16,
   "metadata": {},
   "outputs": [
    {
     "data": {
      "text/html": [
       "<div>\n",
       "<style scoped>\n",
       "    .dataframe tbody tr th:only-of-type {\n",
       "        vertical-align: middle;\n",
       "    }\n",
       "\n",
       "    .dataframe tbody tr th {\n",
       "        vertical-align: top;\n",
       "    }\n",
       "\n",
       "    .dataframe thead th {\n",
       "        text-align: right;\n",
       "    }\n",
       "</style>\n",
       "<table border=\"1\" class=\"dataframe\">\n",
       "  <thead>\n",
       "    <tr style=\"text-align: right;\">\n",
       "      <th></th>\n",
       "      <th>ID</th>\n",
       "      <th>yearID</th>\n",
       "      <th>teamID</th>\n",
       "      <th>team_ID</th>\n",
       "      <th>lgID</th>\n",
       "      <th>playerID</th>\n",
       "      <th>G_all</th>\n",
       "      <th>GS</th>\n",
       "      <th>G_batting</th>\n",
       "      <th>G_defense</th>\n",
       "      <th>...</th>\n",
       "      <th>G_2b</th>\n",
       "      <th>G_3b</th>\n",
       "      <th>G_ss</th>\n",
       "      <th>G_lf</th>\n",
       "      <th>G_cf</th>\n",
       "      <th>G_rf</th>\n",
       "      <th>G_of</th>\n",
       "      <th>G_dh</th>\n",
       "      <th>G_ph</th>\n",
       "      <th>G_pr</th>\n",
       "    </tr>\n",
       "  </thead>\n",
       "  <tbody>\n",
       "    <tr>\n",
       "      <th>0</th>\n",
       "      <td>1</td>\n",
       "      <td>1871</td>\n",
       "      <td>TRO</td>\n",
       "      <td>8</td>\n",
       "      <td>NA</td>\n",
       "      <td>abercda01</td>\n",
       "      <td>1</td>\n",
       "      <td>1</td>\n",
       "      <td>1</td>\n",
       "      <td>1</td>\n",
       "      <td>...</td>\n",
       "      <td>0</td>\n",
       "      <td>0</td>\n",
       "      <td>1</td>\n",
       "      <td>0</td>\n",
       "      <td>0</td>\n",
       "      <td>0</td>\n",
       "      <td>0</td>\n",
       "      <td>0</td>\n",
       "      <td>0</td>\n",
       "      <td>0</td>\n",
       "    </tr>\n",
       "    <tr>\n",
       "      <th>1</th>\n",
       "      <td>2</td>\n",
       "      <td>1871</td>\n",
       "      <td>RC1</td>\n",
       "      <td>7</td>\n",
       "      <td>NA</td>\n",
       "      <td>addybo01</td>\n",
       "      <td>25</td>\n",
       "      <td>25</td>\n",
       "      <td>25</td>\n",
       "      <td>25</td>\n",
       "      <td>...</td>\n",
       "      <td>22</td>\n",
       "      <td>0</td>\n",
       "      <td>3</td>\n",
       "      <td>0</td>\n",
       "      <td>0</td>\n",
       "      <td>0</td>\n",
       "      <td>0</td>\n",
       "      <td>0</td>\n",
       "      <td>0</td>\n",
       "      <td>0</td>\n",
       "    </tr>\n",
       "    <tr>\n",
       "      <th>2</th>\n",
       "      <td>3</td>\n",
       "      <td>1871</td>\n",
       "      <td>CL1</td>\n",
       "      <td>3</td>\n",
       "      <td>NA</td>\n",
       "      <td>allisar01</td>\n",
       "      <td>29</td>\n",
       "      <td>29</td>\n",
       "      <td>29</td>\n",
       "      <td>29</td>\n",
       "      <td>...</td>\n",
       "      <td>2</td>\n",
       "      <td>0</td>\n",
       "      <td>0</td>\n",
       "      <td>0</td>\n",
       "      <td>29</td>\n",
       "      <td>0</td>\n",
       "      <td>29</td>\n",
       "      <td>0</td>\n",
       "      <td>0</td>\n",
       "      <td>0</td>\n",
       "    </tr>\n",
       "    <tr>\n",
       "      <th>3</th>\n",
       "      <td>4</td>\n",
       "      <td>1871</td>\n",
       "      <td>WS3</td>\n",
       "      <td>9</td>\n",
       "      <td>NA</td>\n",
       "      <td>allisdo01</td>\n",
       "      <td>27</td>\n",
       "      <td>27</td>\n",
       "      <td>27</td>\n",
       "      <td>27</td>\n",
       "      <td>...</td>\n",
       "      <td>0</td>\n",
       "      <td>0</td>\n",
       "      <td>0</td>\n",
       "      <td>0</td>\n",
       "      <td>0</td>\n",
       "      <td>0</td>\n",
       "      <td>0</td>\n",
       "      <td>0</td>\n",
       "      <td>0</td>\n",
       "      <td>0</td>\n",
       "    </tr>\n",
       "    <tr>\n",
       "      <th>4</th>\n",
       "      <td>5</td>\n",
       "      <td>1871</td>\n",
       "      <td>RC1</td>\n",
       "      <td>7</td>\n",
       "      <td>NA</td>\n",
       "      <td>ansonca01</td>\n",
       "      <td>25</td>\n",
       "      <td>25</td>\n",
       "      <td>25</td>\n",
       "      <td>25</td>\n",
       "      <td>...</td>\n",
       "      <td>2</td>\n",
       "      <td>20</td>\n",
       "      <td>0</td>\n",
       "      <td>1</td>\n",
       "      <td>0</td>\n",
       "      <td>0</td>\n",
       "      <td>1</td>\n",
       "      <td>0</td>\n",
       "      <td>0</td>\n",
       "      <td>0</td>\n",
       "    </tr>\n",
       "  </tbody>\n",
       "</table>\n",
       "<p>5 rows × 23 columns</p>\n",
       "</div>"
      ],
      "text/plain": [
       "   ID  yearID teamID  team_ID lgID   playerID  G_all  GS  G_batting  \\\n",
       "0   1    1871    TRO        8   NA  abercda01      1   1          1   \n",
       "1   2    1871    RC1        7   NA   addybo01     25  25         25   \n",
       "2   3    1871    CL1        3   NA  allisar01     29  29         29   \n",
       "3   4    1871    WS3        9   NA  allisdo01     27  27         27   \n",
       "4   5    1871    RC1        7   NA  ansonca01     25  25         25   \n",
       "\n",
       "   G_defense  ...  G_2b  G_3b  G_ss  G_lf  G_cf  G_rf  G_of  G_dh  G_ph  G_pr  \n",
       "0          1  ...     0     0     1     0     0     0     0     0     0     0  \n",
       "1         25  ...    22     0     3     0     0     0     0     0     0     0  \n",
       "2         29  ...     2     0     0     0    29     0    29     0     0     0  \n",
       "3         27  ...     0     0     0     0     0     0     0     0     0     0  \n",
       "4         25  ...     2    20     0     1     0     0     1     0     0     0  \n",
       "\n",
       "[5 rows x 23 columns]"
      ]
     },
     "execution_count": 16,
     "metadata": {},
     "output_type": "execute_result"
    }
   ],
   "source": [
    "appearances.head().execute() "
   ]
  },
  {
   "cell_type": "markdown",
   "metadata": {},
   "source": [
    "## Filtering and selecting data\n",
    "\n",
    "As mentioned earlier, Ibis uses familiar Pandas syntax to build SQL queries. As an example, let's look at the various kinds of entries in the category column from the halloffame table. "
   ]
  },
  {
   "cell_type": "code",
   "execution_count": 17,
   "metadata": {},
   "outputs": [
    {
     "data": {
      "text/html": [
       "<div>\n",
       "<style scoped>\n",
       "    .dataframe tbody tr th:only-of-type {\n",
       "        vertical-align: middle;\n",
       "    }\n",
       "\n",
       "    .dataframe tbody tr th {\n",
       "        vertical-align: top;\n",
       "    }\n",
       "\n",
       "    .dataframe thead th {\n",
       "        text-align: right;\n",
       "    }\n",
       "</style>\n",
       "<table border=\"1\" class=\"dataframe\">\n",
       "  <thead>\n",
       "    <tr style=\"text-align: right;\">\n",
       "      <th></th>\n",
       "      <th>category</th>\n",
       "      <th>count</th>\n",
       "    </tr>\n",
       "  </thead>\n",
       "  <tbody>\n",
       "    <tr>\n",
       "      <th>0</th>\n",
       "      <td>Manager</td>\n",
       "      <td>74</td>\n",
       "    </tr>\n",
       "    <tr>\n",
       "      <th>1</th>\n",
       "      <td>Pioneer/Executive</td>\n",
       "      <td>41</td>\n",
       "    </tr>\n",
       "    <tr>\n",
       "      <th>2</th>\n",
       "      <td>Player</td>\n",
       "      <td>4066</td>\n",
       "    </tr>\n",
       "    <tr>\n",
       "      <th>3</th>\n",
       "      <td>Umpire</td>\n",
       "      <td>10</td>\n",
       "    </tr>\n",
       "  </tbody>\n",
       "</table>\n",
       "</div>"
      ],
      "text/plain": [
       "            category  count\n",
       "0            Manager     74\n",
       "1  Pioneer/Executive     41\n",
       "2             Player   4066\n",
       "3             Umpire     10"
      ]
     },
     "execution_count": 17,
     "metadata": {},
     "output_type": "execute_result"
    }
   ],
   "source": [
    "halloffame.category.value_counts().execute()"
   ]
  },
  {
   "cell_type": "code",
   "execution_count": null,
   "metadata": {},
   "outputs": [],
   "source": []
  }
 ],
 "metadata": {
  "kernelspec": {
   "display_name": "Python 3",
   "language": "python",
   "name": "python3"
  },
  "language_info": {
   "codemirror_mode": {
    "name": "ipython",
    "version": 3
   },
   "file_extension": ".py",
   "mimetype": "text/x-python",
   "name": "python",
   "nbconvert_exporter": "python",
   "pygments_lexer": "ipython3",
   "version": "3.7.6"
  }
 },
 "nbformat": 4,
 "nbformat_minor": 4
}
